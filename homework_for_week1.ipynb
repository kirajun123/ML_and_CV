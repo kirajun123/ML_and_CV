{
 "cells": [
  {
   "cell_type": "markdown",
   "metadata": {},
   "source": [
    "# Homework of First week in CV class"
   ]
  },
  {
   "cell_type": "code",
   "execution_count": null,
   "metadata": {
    "ExecuteTime": {
     "start_time": "2019-07-04T09:00:19.518Z"
    }
   },
   "outputs": [],
   "source": [
    "import cv2\n",
    "import random\n",
    "import numpy as np\n",
    "from matplotlib import pyplot as plt"
   ]
  },
  {
   "cell_type": "markdown",
   "metadata": {},
   "source": [
    "## 将图片按照灰度图读取"
   ]
  },
  {
   "cell_type": "code",
   "execution_count": null,
   "metadata": {
    "ExecuteTime": {
     "start_time": "2019-07-04T09:00:20.507Z"
    }
   },
   "outputs": [],
   "source": [
    "#读入灰度图，0表示按照灰度图读取图片（读取当前目录下的图片）\n",
    "img_grey = cv2.imread('lenna.jpg', 0)\n",
    "#显示该图片，'lenna'表示显示图片的标题名称\n",
    "cv2.imshow('lenna', img_grey)\n",
    "#jupyter notebook中要输入以下代码，否则图片显示存在问题\n",
    "key = cv2.waitKey()\n",
    "if key == 27:\n",
    "    cv2.destroyAllWindows()"
   ]
  },
  {
   "cell_type": "code",
   "execution_count": null,
   "metadata": {
    "ExecuteTime": {
     "start_time": "2019-07-04T09:00:22.509Z"
    }
   },
   "outputs": [],
   "source": [
    "#显示该灰度图的图像数组：灰度图为二维矩阵\n",
    "print(img_grey)"
   ]
  },
  {
   "cell_type": "code",
   "execution_count": null,
   "metadata": {
    "ExecuteTime": {
     "start_time": "2019-07-04T09:00:23.521Z"
    }
   },
   "outputs": [],
   "source": [
    "#显示该灰度图图像数组中元素的数据类型：int8\n",
    "print(img_grey.dtype)"
   ]
  },
  {
   "cell_type": "code",
   "execution_count": null,
   "metadata": {
    "ExecuteTime": {
     "start_time": "2019-07-04T09:00:24.646Z"
    }
   },
   "outputs": [],
   "source": [
    "#显示该灰度图图像数组的大小：200*200\n",
    "print(img_grey.shape)"
   ]
  },
  {
   "cell_type": "markdown",
   "metadata": {},
   "source": [
    "## 按照彩色图格式读取图片"
   ]
  },
  {
   "cell_type": "code",
   "execution_count": 6,
   "metadata": {
    "ExecuteTime": {
     "end_time": "2019-07-03T07:20:28.237400Z",
     "start_time": "2019-07-03T07:20:27.483183Z"
    }
   },
   "outputs": [],
   "source": [
    "import cv2\n",
    "#读入并显示lenna：原图即为彩色图像\n",
    "img = cv2.imread('lenna.jpg')\n",
    "cv2.imshow('lenna', img)\n",
    "key = cv2.waitKey()\n",
    "if key == 27:\n",
    "    cv2.destroyAllWindows()"
   ]
  },
  {
   "cell_type": "code",
   "execution_count": 30,
   "metadata": {
    "ExecuteTime": {
     "end_time": "2019-07-03T07:36:29.068691Z",
     "start_time": "2019-07-03T07:36:29.052152Z"
    }
   },
   "outputs": [
    {
     "name": "stdout",
     "output_type": "stream",
     "text": [
      "[[[114 152 224]\n",
      "  [114 154 226]\n",
      "  [116 156 228]\n",
      "  ...\n",
      "  [118 151 220]\n",
      "  [138 171 234]\n",
      "  [130 164 224]]\n",
      "\n",
      " [[111 151 223]\n",
      "  [112 154 225]\n",
      "  [111 154 227]\n",
      "  ...\n",
      "  [115 147 212]\n",
      "  [135 165 224]\n",
      "  [142 173 228]]\n",
      "\n",
      " [[104 149 222]\n",
      "  [105 150 223]\n",
      "  [104 152 224]\n",
      "  ...\n",
      "  [ 84 112 172]\n",
      "  [ 64  91 142]\n",
      "  [ 62  88 135]]\n",
      "\n",
      " ...\n",
      "\n",
      " [[ 17  31  37]\n",
      "  [ 23  37  43]\n",
      "  [ 13  26  34]\n",
      "  ...\n",
      "  [ 22  43  71]\n",
      "  [ 34  54  89]\n",
      "  [ 36  57  95]]\n",
      "\n",
      " [[ 12  27  30]\n",
      "  [ 22  36  42]\n",
      "  [ 12  23  31]\n",
      "  ...\n",
      "  [ 36  55  88]\n",
      "  [ 56  75 113]\n",
      "  [ 56  77 122]]\n",
      "\n",
      " [[ 12  24  28]\n",
      "  [ 24  36  42]\n",
      "  [ 12  23  31]\n",
      "  ...\n",
      "  [ 44  62  99]\n",
      "  [ 66  85 130]\n",
      "  [ 67  86 137]]]\n",
      "(200, 200, 3)\n",
      "<class 'numpy.ndarray'>\n"
     ]
    }
   ],
   "source": [
    "#显示该图片的图像数组\n",
    "print(img)\n",
    "#显示该图片的数组大小：200*200*3\n",
    "print(img.shape)\n",
    "#img的类型为np数组\n",
    "print(type(img))"
   ]
  },
  {
   "cell_type": "markdown",
   "metadata": {},
   "source": [
    "## 图像处理"
   ]
  },
  {
   "cell_type": "markdown",
   "metadata": {},
   "source": [
    "### 图片剪裁crop"
   ]
  },
  {
   "cell_type": "code",
   "execution_count": 8,
   "metadata": {
    "ExecuteTime": {
     "end_time": "2019-07-03T07:20:30.995882Z",
     "start_time": "2019-07-03T07:20:28.281839Z"
    }
   },
   "outputs": [],
   "source": [
    "#图片剪裁 img crop,采用数组切片的方式即可\n",
    "img_crop = img[0:200, 0:100]\n",
    "cv2.imshow('lenna_crop', img_crop)\n",
    "key = cv2.waitKey()\n",
    "if key == 27:\n",
    "    cv2.destroyAllWindows()"
   ]
  },
  {
   "cell_type": "markdown",
   "metadata": {},
   "source": [
    "### 颜色分解 color split"
   ]
  },
  {
   "cell_type": "code",
   "execution_count": 9,
   "metadata": {
    "ExecuteTime": {
     "end_time": "2019-07-03T07:20:35.579441Z",
     "start_time": "2019-07-03T07:20:31.006189Z"
    }
   },
   "outputs": [],
   "source": [
    "#颜色分解 color split：将图片按照颜色通道分解,Blue/Green/Red\n",
    "B, G, R = cv2.split(img)\n",
    "cv2.imshow('B', B)\n",
    "cv2.imshow('G', G)\n",
    "cv2.imshow('R', R)\n",
    "key = cv2.waitKey()\n",
    "if key == 27:\n",
    "    cv2.destroyAllWindows()"
   ]
  },
  {
   "cell_type": "markdown",
   "metadata": {},
   "source": [
    "### 随机改变图片颜色 change color"
   ]
  },
  {
   "cell_type": "code",
   "execution_count": 10,
   "metadata": {
    "ExecuteTime": {
     "end_time": "2019-07-03T07:20:35.666282Z",
     "start_time": "2019-07-03T07:20:35.595994Z"
    }
   },
   "outputs": [],
   "source": [
    "#颜色改变 color change\n",
    "#利用随机数产生器，对图片颜色随机进行改变\n",
    "def random_light_color(img):\n",
    "    B, G, R = cv2.split(img)\n",
    "    #在-50到50之间产生随机整数\n",
    "    b_rand = random.randint(-50, 50)\n",
    "    if b_rand == 0:\n",
    "        pass\n",
    "    #由于B、G、R通道中，代表颜色的整数均在0~255范围内，因此要进行一定处理，以防止数字超出范围\n",
    "    elif b_rand > 0:\n",
    "        #计算限值\n",
    "        lim = 255 - b_rand\n",
    "        #若加了该随机数后会超出255的B中元素，直接另其达到最大值255\n",
    "        B[B>lim] = 255\n",
    "        #其他不会超出255的元素，直接加该随机数\n",
    "        B[B<lim] = (b_rand + B[B<lim]).astype(img.dtype)\n",
    "    elif b_rand < 0:\n",
    "        #计算限值\n",
    "        lim = 0 - b_rand\n",
    "        #加了该随机数后会小于0的B中元素，直接另其达到最小值0\n",
    "        B[B < lim] = 0\n",
    "        #其他不会低于0的元素，直接加该随机数\n",
    "        B[B >= lim] = (b_rand + B[B >= lim]).astype(img.dtype)\n",
    "    #对G、R作同样处理\n",
    "    g_rand = random.randint(-50, 50)\n",
    "    if g_rand == 0:\n",
    "        pass\n",
    "    elif g_rand > 0:\n",
    "        lim = 255 - g_rand\n",
    "        G[G > lim] = 255\n",
    "        G[G <= lim] = (g_rand + G[G <= lim]).astype(img.dtype)\n",
    "    elif g_rand < 0:\n",
    "        lim = 0 - g_rand\n",
    "        G[G < lim] = 0\n",
    "        G[G >= lim] = (g_rand + G[G >= lim]).astype(img.dtype)\n",
    "\n",
    "    r_rand = random.randint(-50, 50)\n",
    "    if r_rand == 0:\n",
    "        pass\n",
    "    elif r_rand > 0:\n",
    "        lim = 255 - r_rand\n",
    "        R[R > lim] = 255\n",
    "        R[R <= lim] = (r_rand + R[R <= lim]).astype(img.dtype)\n",
    "    elif r_rand < 0:\n",
    "        lim = 0 - r_rand\n",
    "        R[R < lim] = 0\n",
    "        R[R >= lim] = (r_rand + R[R >= lim]).astype(img.dtype)\n",
    "    #将增加了随机数后的BGR数组组合起来，形成新的图片\n",
    "    img_merge = cv2.merge((B, G, R))\n",
    "    #img = cv2.cvtColor(final_hsv, cv2.COLOR_HSV2BGR)\n",
    "    return img_merge"
   ]
  },
  {
   "cell_type": "code",
   "execution_count": 11,
   "metadata": {
    "ExecuteTime": {
     "end_time": "2019-07-03T07:20:37.499737Z",
     "start_time": "2019-07-03T07:20:35.671760Z"
    }
   },
   "outputs": [],
   "source": [
    "img_random_color = random_light_color(img)\n",
    "cv2.imshow('radom_lenna', img_random_color)\n",
    "key=cv2.waitKey() \n",
    "if key == 27:\n",
    "    cv2.destroyAllWindows"
   ]
  },
  {
   "cell_type": "markdown",
   "metadata": {},
   "source": [
    "### 伽马校正 gamma correction：伽马校正就是对图像的伽马曲线进行编辑，以对图像进行非线性色调编辑的方法，检出图像信号中的深色部分和浅色部分，并使两者比例增大，从而提高图像对比度效果。"
   ]
  },
  {
   "cell_type": "code",
   "execution_count": 12,
   "metadata": {
    "ExecuteTime": {
     "end_time": "2019-07-03T07:20:39.318366Z",
     "start_time": "2019-07-03T07:20:37.511209Z"
    }
   },
   "outputs": [],
   "source": [
    "#读取一张比较暗的图片\n",
    "img_dark = cv2.imread('dark.jpg')\n",
    "cv2.imshow('img_dark', img_dark)\n",
    "key = cv2.waitKey()\n",
    "if key == 27:\n",
    "    cv2.destroyAllWindows()"
   ]
  },
  {
   "cell_type": "code",
   "execution_count": 13,
   "metadata": {
    "ExecuteTime": {
     "end_time": "2019-07-03T07:20:39.354660Z",
     "start_time": "2019-07-03T07:20:39.332376Z"
    }
   },
   "outputs": [],
   "source": [
    "def adjust_gamma(img, gamma = 1.0):\n",
    "    #build a lookup table mapping the pixel values [0, 255] to their adjusted gamma values\n",
    "    invgamma = 1/gamma\n",
    "    table = []\n",
    "    for i in range(256):\n",
    "        table.append(((i/255.0)**invgamma)*255)\n",
    "    #将table list转为np数组\n",
    "    table = np.array(table).astype(\"uint8\")\n",
    "    #The function LUT fills the output array with values from the look-up table\n",
    "    return cv2.LUT(img, table)"
   ]
  },
  {
   "cell_type": "code",
   "execution_count": 14,
   "metadata": {
    "ExecuteTime": {
     "end_time": "2019-07-03T07:20:42.611367Z",
     "start_time": "2019-07-03T07:20:39.364740Z"
    }
   },
   "outputs": [],
   "source": [
    "img_brighter = adjust_gamma(img_dark, 2)\n",
    "cv2.imshow('img_dark', img_dark)\n",
    "cv2.imshow('img_brighter', img_brighter)\n",
    "key = cv2.waitKey()\n",
    "if key == 27:\n",
    "    cv2.destroyAllWindows()"
   ]
  },
  {
   "cell_type": "markdown",
   "metadata": {
    "ExecuteTime": {
     "end_time": "2019-07-02T09:20:23.600807Z",
     "start_time": "2019-07-02T09:20:23.596818Z"
    }
   },
   "source": [
    "### 直方图 histogram"
   ]
  },
  {
   "cell_type": "code",
   "execution_count": 15,
   "metadata": {
    "ExecuteTime": {
     "end_time": "2019-07-03T07:20:43.656585Z",
     "start_time": "2019-07-03T07:20:42.625466Z"
    }
   },
   "outputs": [
    {
     "data": {
      "text/plain": [
       "(array([1.5406e+04, 0.0000e+00, 0.0000e+00, 0.0000e+00, 0.0000e+00,\n",
       "        0.0000e+00, 0.0000e+00, 0.0000e+00, 0.0000e+00, 0.0000e+00,\n",
       "        0.0000e+00, 0.0000e+00, 0.0000e+00, 0.0000e+00, 0.0000e+00,\n",
       "        1.8125e+04, 0.0000e+00, 0.0000e+00, 0.0000e+00, 0.0000e+00,\n",
       "        0.0000e+00, 0.0000e+00, 1.8573e+04, 0.0000e+00, 0.0000e+00,\n",
       "        0.0000e+00, 0.0000e+00, 8.4240e+03, 0.0000e+00, 0.0000e+00,\n",
       "        0.0000e+00, 7.1580e+03, 0.0000e+00, 0.0000e+00, 0.0000e+00,\n",
       "        5.0280e+03, 0.0000e+00, 0.0000e+00, 0.0000e+00, 3.1370e+03,\n",
       "        0.0000e+00, 0.0000e+00, 4.7190e+03, 0.0000e+00, 0.0000e+00,\n",
       "        4.6880e+03, 0.0000e+00, 3.9170e+03, 0.0000e+00, 0.0000e+00,\n",
       "        3.2590e+03, 0.0000e+00, 5.2650e+03, 0.0000e+00, 0.0000e+00,\n",
       "        5.8400e+03, 0.0000e+00, 5.2480e+03, 0.0000e+00, 6.4120e+03,\n",
       "        0.0000e+00, 8.9280e+03, 0.0000e+00, 7.7350e+03, 0.0000e+00,\n",
       "        6.6850e+03, 0.0000e+00, 9.1800e+03, 0.0000e+00, 9.3520e+03,\n",
       "        0.0000e+00, 7.2470e+03, 0.0000e+00, 9.0740e+03, 8.9460e+03,\n",
       "        0.0000e+00, 7.3730e+03, 0.0000e+00, 1.0103e+04, 5.7440e+03,\n",
       "        0.0000e+00, 4.6820e+03, 4.6540e+03, 0.0000e+00, 4.9950e+03,\n",
       "        7.1100e+03, 0.0000e+00, 1.4244e+04, 1.0163e+04, 0.0000e+00,\n",
       "        8.3820e+03, 5.8480e+03, 0.0000e+00, 8.7340e+03, 1.1373e+04,\n",
       "        9.3150e+03, 0.0000e+00, 1.0578e+04, 8.4390e+03, 1.0394e+04,\n",
       "        8.8740e+03, 0.0000e+00, 8.8590e+03, 1.0026e+04, 9.0870e+03,\n",
       "        7.4770e+03, 0.0000e+00, 8.3170e+03, 9.4340e+03, 8.1250e+03,\n",
       "        8.4710e+03, 6.7110e+03, 7.6500e+03, 0.0000e+00, 7.2330e+03,\n",
       "        6.6570e+03, 7.7630e+03, 6.8030e+03, 5.9760e+03, 5.9520e+03,\n",
       "        6.0710e+03, 5.8890e+03, 6.0580e+03, 5.5360e+03, 5.5720e+03,\n",
       "        5.0250e+03, 5.1040e+03, 5.3040e+03, 4.8710e+03, 4.9970e+03,\n",
       "        4.6460e+03, 4.7830e+03, 4.3600e+03, 4.3350e+03, 4.2930e+03,\n",
       "        4.1260e+03, 4.5560e+03, 4.4980e+03, 4.5260e+03, 4.1870e+03,\n",
       "        4.3450e+03, 8.5610e+03, 4.2010e+03, 4.0930e+03, 4.0500e+03,\n",
       "        4.2040e+03, 3.8710e+03, 3.7910e+03, 7.6330e+03, 3.7670e+03,\n",
       "        3.6370e+03, 3.4650e+03, 3.2510e+03, 6.4550e+03, 3.2230e+03,\n",
       "        3.3680e+03, 3.0940e+03, 3.0400e+03, 5.9170e+03, 2.7610e+03,\n",
       "        2.8100e+03, 2.7270e+03, 5.9270e+03, 2.5760e+03, 2.3800e+03,\n",
       "        5.3410e+03, 2.9790e+03, 2.5450e+03, 4.7150e+03, 2.5690e+03,\n",
       "        2.5590e+03, 4.7300e+03, 2.1290e+03, 2.2750e+03, 4.3500e+03,\n",
       "        1.9340e+03, 1.8860e+03, 3.8910e+03, 1.9810e+03, 3.2990e+03,\n",
       "        1.6230e+03, 1.5390e+03, 3.0590e+03, 1.3200e+03, 2.4360e+03,\n",
       "        1.1440e+03, 2.1860e+03, 1.0390e+03, 2.0880e+03, 9.5900e+02,\n",
       "        1.9760e+03, 8.8500e+02, 1.8130e+03, 9.0100e+02, 1.6140e+03,\n",
       "        8.3400e+02, 1.4840e+03, 6.6800e+02, 1.3360e+03, 6.3000e+02,\n",
       "        1.2670e+03, 1.2880e+03, 5.7800e+02, 1.0580e+03, 5.3100e+02,\n",
       "        8.7300e+02, 6.8500e+02, 3.3800e+02, 6.2700e+02, 2.6000e+02,\n",
       "        4.6500e+02, 4.4700e+02, 2.3100e+02, 4.1700e+02, 3.8800e+02,\n",
       "        2.0900e+02, 4.0500e+02, 3.8200e+02, 3.7000e+02, 1.9600e+02,\n",
       "        4.0000e+02, 3.8600e+02, 3.4400e+02, 1.7300e+02, 3.2100e+02,\n",
       "        2.5900e+02, 1.9100e+02, 8.9000e+01, 1.4600e+02, 7.1000e+01,\n",
       "        4.9000e+01, 2.4000e+01, 6.0000e+00, 8.0000e+00, 5.0000e+00,\n",
       "        5.0000e+00, 3.0000e+00, 4.0000e+00, 1.0000e+00, 1.0000e+00,\n",
       "        3.0000e+00, 0.0000e+00, 1.0000e+00, 0.0000e+00, 0.0000e+00,\n",
       "        0.0000e+00, 1.0000e+00, 0.0000e+00, 1.0000e+00, 0.0000e+00,\n",
       "        0.0000e+00, 0.0000e+00, 0.0000e+00, 0.0000e+00, 0.0000e+00,\n",
       "        0.0000e+00]),\n",
       " array([  0.,   1.,   2.,   3.,   4.,   5.,   6.,   7.,   8.,   9.,  10.,\n",
       "         11.,  12.,  13.,  14.,  15.,  16.,  17.,  18.,  19.,  20.,  21.,\n",
       "         22.,  23.,  24.,  25.,  26.,  27.,  28.,  29.,  30.,  31.,  32.,\n",
       "         33.,  34.,  35.,  36.,  37.,  38.,  39.,  40.,  41.,  42.,  43.,\n",
       "         44.,  45.,  46.,  47.,  48.,  49.,  50.,  51.,  52.,  53.,  54.,\n",
       "         55.,  56.,  57.,  58.,  59.,  60.,  61.,  62.,  63.,  64.,  65.,\n",
       "         66.,  67.,  68.,  69.,  70.,  71.,  72.,  73.,  74.,  75.,  76.,\n",
       "         77.,  78.,  79.,  80.,  81.,  82.,  83.,  84.,  85.,  86.,  87.,\n",
       "         88.,  89.,  90.,  91.,  92.,  93.,  94.,  95.,  96.,  97.,  98.,\n",
       "         99., 100., 101., 102., 103., 104., 105., 106., 107., 108., 109.,\n",
       "        110., 111., 112., 113., 114., 115., 116., 117., 118., 119., 120.,\n",
       "        121., 122., 123., 124., 125., 126., 127., 128., 129., 130., 131.,\n",
       "        132., 133., 134., 135., 136., 137., 138., 139., 140., 141., 142.,\n",
       "        143., 144., 145., 146., 147., 148., 149., 150., 151., 152., 153.,\n",
       "        154., 155., 156., 157., 158., 159., 160., 161., 162., 163., 164.,\n",
       "        165., 166., 167., 168., 169., 170., 171., 172., 173., 174., 175.,\n",
       "        176., 177., 178., 179., 180., 181., 182., 183., 184., 185., 186.,\n",
       "        187., 188., 189., 190., 191., 192., 193., 194., 195., 196., 197.,\n",
       "        198., 199., 200., 201., 202., 203., 204., 205., 206., 207., 208.,\n",
       "        209., 210., 211., 212., 213., 214., 215., 216., 217., 218., 219.,\n",
       "        220., 221., 222., 223., 224., 225., 226., 227., 228., 229., 230.,\n",
       "        231., 232., 233., 234., 235., 236., 237., 238., 239., 240., 241.,\n",
       "        242., 243., 244., 245., 246., 247., 248., 249., 250., 251., 252.,\n",
       "        253., 254., 255., 256.]),\n",
       " <a list of 256 Patch objects>)"
      ]
     },
     "execution_count": 15,
     "metadata": {},
     "output_type": "execute_result"
    },
    {
     "data": {
      "image/png": "[encoded data removed]",
      "text/plain": [
       "<Figure size 432x288 with 1 Axes>"
      ]
     },
     "metadata": {
      "needs_background": "light"
     },
     "output_type": "display_data"
    }
   ],
   "source": [
    "#缩小图片cv2.resize()\n",
    "img_small_brighter = cv2.resize(img_brighter, (int(img_brighter.shape[0]*0.5), int(img_brighter.shape[1]*0.5)))\n",
    "plt.hist(img_brighter.flatten(), 256, [0, 256], color = 'r')"
   ]
  },
  {
   "cell_type": "markdown",
   "metadata": {},
   "source": [
    "#### 直方图均衡化：直方图均衡化是图像处理领域中利用图像直方图对对比度进行调整的方法。通过这种方法，亮度可以更好地在直方图上分布。这样就可以用于增强局部的对比度而不影响整体的对比度，直方图均衡化通过有效地扩展常用的亮度来实现这种功能。"
   ]
  },
  {
   "cell_type": "code",
   "execution_count": 16,
   "metadata": {
    "ExecuteTime": {
     "end_time": "2019-07-03T07:20:47.890402Z",
     "start_time": "2019-07-03T07:20:43.658616Z"
    }
   },
   "outputs": [],
   "source": [
    "#cv2.cvtColor()图像颜色空间转换,RGB转为YUV\n",
    "img_yuv = cv2.cvtColor(img_small_brighter, cv2.COLOR_BGR2YUV)\n",
    "# 使Y通道的直方图均衡化，equalize the histogram of the Y channel\n",
    "img_yuv[:,:,0] = cv2.equalizeHist(img_yuv[:,:,0])   # only for 1 channel\n",
    "# 将YUV图片转回RGB格式,convert the YUV image back to RGB format\n",
    "img_output = cv2.cvtColor(img_yuv, cv2.COLOR_YUV2BGR)   # y: luminance(明亮度), u&v: 色度饱和度\n",
    "cv2.imshow('Color input image', img_small_brighter)\n",
    "cv2.imshow('Histogram equalized', img_output)\n",
    "key = cv2.waitKey(0)\n",
    "if key == 27:\n",
    "    exit()"
   ]
  },
  {
   "cell_type": "markdown",
   "metadata": {},
   "source": [
    "### 旋转rotation"
   ]
  },
  {
   "cell_type": "code",
   "execution_count": 38,
   "metadata": {
    "ExecuteTime": {
     "end_time": "2019-07-03T07:45:09.610803Z",
     "start_time": "2019-07-03T07:45:07.348336Z"
    }
   },
   "outputs": [],
   "source": [
    "#创建一个二维选装矩阵？需输入中心点、角度、缩放大小？\n",
    "M = cv2.getRotationMatrix2D((img.shape[1] / 2, img.shape[0] / 2), 30, 1) # center, angle, scale\n",
    "img_rotate = cv2.warpAffine(img, M, (img.shape[1], img.shape[0]))\n",
    "cv2.imshow('rotated lenna', img_rotate)\n",
    "key = cv2.waitKey(0)\n",
    "if key == 27:\n",
    "    cv2.destroyAllWindows()"
   ]
  },
  {
   "cell_type": "code",
   "execution_count": 39,
   "metadata": {
    "ExecuteTime": {
     "end_time": "2019-07-03T07:45:10.774360Z",
     "start_time": "2019-07-03T07:45:10.758578Z"
    }
   },
   "outputs": [
    {
     "name": "stdout",
     "output_type": "stream",
     "text": [
      "[[  0.8660254    0.5        -36.60254038]\n",
      " [ -0.5          0.8660254   63.39745962]]\n"
     ]
    }
   ],
   "source": [
    "print(M)"
   ]
  },
  {
   "cell_type": "code",
   "execution_count": 40,
   "metadata": {
    "ExecuteTime": {
     "end_time": "2019-07-03T07:45:15.893601Z",
     "start_time": "2019-07-03T07:45:14.458245Z"
    }
   },
   "outputs": [
    {
     "name": "stdout",
     "output_type": "stream",
     "text": [
      "[[ 0.8660254  0.5        0.       ]\n",
      " [-0.5        0.8660254  0.       ]]\n"
     ]
    }
   ],
   "source": [
    "M[0][2] = 0\n",
    "M[1][2] = 0\n",
    "print(M)\n",
    "img_rotate2 = cv2.warpAffine(img, M, (img.shape[1], img.shape[0]))\n",
    "cv2.imshow('rotated lenna2', img_rotate2)\n",
    "key = cv2.waitKey(0)\n",
    "if key == 27:\n",
    "    cv2.destroyAllWindows()"
   ]
  },
  {
   "cell_type": "code",
   "execution_count": 41,
   "metadata": {
    "ExecuteTime": {
     "end_time": "2019-07-03T07:46:03.554523Z",
     "start_time": "2019-07-03T07:46:01.590088Z"
    }
   },
   "outputs": [
    {
     "name": "stdout",
     "output_type": "stream",
     "text": [
      "[[ 0.4330127   0.25       31.69872981]\n",
      " [-0.25        0.4330127  81.69872981]]\n"
     ]
    }
   ],
   "source": [
    "# scale+rotation+translation = similarity transform 缩放+旋转+平移=相似变换\n",
    "M = cv2.getRotationMatrix2D((img.shape[1] / 2, img.shape[0] / 2), 30, 0.5) # center, angle, scale\n",
    "img_rotate = cv2.warpAffine(img, M, (img.shape[1], img.shape[0]))\n",
    "cv2.imshow('rotated lenna', img_rotate)\n",
    "key = cv2.waitKey(0)\n",
    "if key == 27:\n",
    "    cv2.destroyAllWindows()\n",
    "\n",
    "print(M)"
   ]
  },
  {
   "cell_type": "markdown",
   "metadata": {},
   "source": [
    "### 仿射变换 Affine Transform"
   ]
  },
  {
   "cell_type": "code",
   "execution_count": 25,
   "metadata": {
    "ExecuteTime": {
     "end_time": "2019-07-03T07:29:00.665946Z",
     "start_time": "2019-07-03T07:28:58.447339Z"
    }
   },
   "outputs": [],
   "source": [
    "rows, cols, ch = img.shape\n",
    "pts1 = np.float32([[0, 0], [cols - 1, 0], [0, rows - 1]])\n",
    "pts2 = np.float32([[cols * 0.2, rows * 0.1], [cols * 0.9, rows * 0.2], [cols * 0.1, rows * 0.9]])\n",
    " \n",
    "M = cv2.getAffineTransform(pts1, pts2)\n",
    "dst = cv2.warpAffine(img, M, (cols, rows))\n",
    "\n",
    "cv2.imshow('affine lenna', dst)\n",
    "key = cv2.waitKey(0)\n",
    "if key == 27:\n",
    "    cv2.destroyAllWindows()\n"
   ]
  },
  {
   "cell_type": "markdown",
   "metadata": {},
   "source": [
    "### 投影变换 perspective transform"
   ]
  },
  {
   "cell_type": "code",
   "execution_count": 27,
   "metadata": {
    "ExecuteTime": {
     "end_time": "2019-07-03T07:31:52.553763Z",
     "start_time": "2019-07-03T07:31:52.516175Z"
    }
   },
   "outputs": [],
   "source": [
    "def random_warp(img, row, col):\n",
    "    height, width, channels = img.shape\n",
    "\n",
    "    # warp:\n",
    "    random_margin = 60\n",
    "    x1 = random.randint(-random_margin, random_margin)\n",
    "    y1 = random.randint(-random_margin, random_margin)\n",
    "    x2 = random.randint(width - random_margin - 1, width - 1)\n",
    "    y2 = random.randint(-random_margin, random_margin)\n",
    "    x3 = random.randint(width - random_margin - 1, width - 1)\n",
    "    y3 = random.randint(height - random_margin - 1, height - 1)\n",
    "    x4 = random.randint(-random_margin, random_margin)\n",
    "    y4 = random.randint(height - random_margin - 1, height - 1)\n",
    "\n",
    "    dx1 = random.randint(-random_margin, random_margin)\n",
    "    dy1 = random.randint(-random_margin, random_margin)\n",
    "    dx2 = random.randint(width - random_margin - 1, width - 1)\n",
    "    dy2 = random.randint(-random_margin, random_margin)\n",
    "    dx3 = random.randint(width - random_margin - 1, width - 1)\n",
    "    dy3 = random.randint(height - random_margin - 1, height - 1)\n",
    "    dx4 = random.randint(-random_margin, random_margin)\n",
    "    dy4 = random.randint(height - random_margin - 1, height - 1)\n",
    "\n",
    "    pts1 = np.float32([[x1, y1], [x2, y2], [x3, y3], [x4, y4]])\n",
    "    pts2 = np.float32([[dx1, dy1], [dx2, dy2], [dx3, dy3], [dx4, dy4]])\n",
    "    M_warp = cv2.getPerspectiveTransform(pts1, pts2)\n",
    "    img_warp = cv2.warpPerspective(img, M_warp, (width, height))\n",
    "    return M_warp, img_warp"
   ]
  },
  {
   "cell_type": "code",
   "execution_count": 29,
   "metadata": {
    "ExecuteTime": {
     "end_time": "2019-07-03T07:32:06.238824Z",
     "start_time": "2019-07-03T07:32:04.359016Z"
    }
   },
   "outputs": [],
   "source": [
    "M_warp, img_warp = random_warp(img, img.shape[0], img.shape[1])\n",
    "cv2.imshow('lenna_warp', img_warp)\n",
    "key = cv2.waitKey(0)\n",
    "if key == 27:\n",
    "    cv2.destroyAllWindows()"
   ]
  },
  {
   "cell_type": "markdown",
   "metadata": {},
   "source": [
    "# 将部分图像处理功能打包为data_augmentation"
   ]
  },
  {
   "cell_type": "code",
   "execution_count": 2,
   "metadata": {
    "ExecuteTime": {
     "end_time": "2019-07-04T09:04:39.375313Z",
     "start_time": "2019-07-04T09:04:39.369132Z"
    }
   },
   "outputs": [],
   "source": [
    "import data_augmentation\n",
    "import cv2"
   ]
  },
  {
   "cell_type": "code",
   "execution_count": 9,
   "metadata": {
    "ExecuteTime": {
     "end_time": "2019-07-04T09:07:09.674156Z",
     "start_time": "2019-07-04T09:07:07.445310Z"
    }
   },
   "outputs": [],
   "source": [
    "img = cv2.imread('dark.jpg')\n",
    "img_gama = data_augmentation.adjust_gamma(img, 1.0)\n",
    "cv2.imshow('dark_gama', img_gama)\n",
    "key = cv2.waitKey()\n",
    "if key == 27:\n",
    "    cv2.destroyAllWindows()\n"
   ]
  },
  {
   "cell_type": "code",
   "execution_count": null,
   "metadata": {},
   "outputs": [],
   "source": []
  }
 ],
 "metadata": {
  "kernelspec": {
   "display_name": "Python 3",
   "language": "python",
   "name": "python3"
  },
  "language_info": {
   "codemirror_mode": {
    "name": "ipython",
    "version": 3
   },
   "file_extension": ".py",
   "mimetype": "text/x-python",
   "name": "python",
   "nbconvert_exporter": "python",
   "pygments_lexer": "ipython3",
   "version": "3.7.1"
  },
  "varInspector": {
   "cols": {
    "lenName": 16,
    "lenType": 16,
    "lenVar": 40
   },
   "kernels_config": {
    "python": {
     "delete_cmd_postfix": "",
     "delete_cmd_prefix": "del ",
     "library": "var_list.py",
     "varRefreshCmd": "print(var_dic_list())"
    },
    "r": {
     "delete_cmd_postfix": ") ",
     "delete_cmd_prefix": "rm(",
     "library": "var_list.r",
     "varRefreshCmd": "cat(var_dic_list()) "
    }
   },
   "types_to_exclude": [
    "module",
    "function",
    "builtin_function_or_method",
    "instance",
    "_Feature"
   ],
   "window_display": false
  }
 },
 "nbformat": 4,
 "nbformat_minor": 2
}
