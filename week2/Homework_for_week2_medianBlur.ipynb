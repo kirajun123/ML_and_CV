{
 "cells": [
  {
   "cell_type": "markdown",
   "metadata": {},
   "source": [
    "# Homework1: Finish 2D convolution/filtering by your self. \n",
    "What you are supposed to do can be described as \"median blur\", which means by using a sliding window on an image, your task is not going to do a normal convolution, but to find the median value within that crop.\n",
    "\n",
    "You can assume your input has only one channel. (a.k.a a normal 2D list/vector)\n",
    "And you do need to consider the padding method and size. There are 2 padding ways: REPLICA & ZERO. When \"REPLICA\" is given to you, the padded pixels are same with the border pixels. E.g is [1 2 3] is your image, the padded version will be [(...1 1) 1 2 3 (3 3...)] where how many 1 & 3 in the parenthesis depends on your padding size. When \"ZERO\", the padded version will be [(...0 0) 1 2 3 (0 0...)]\n",
    "\n",
    "Assume your input's size of the image is W x H, kernel size's m x n. You may first complete a version with O(W·H·m·n log(m·n)) to O(W·H·m·n·m·n)). Follow up 1: Can it be completed in a shorter time complexity?"
   ]
  },
  {
   "cell_type": "markdown",
   "metadata": {},
   "source": [
    "## 1.中值滤波的实现\n",
    "中值滤波是常用的一种滤波方式，属于非线性的滤波。它的原理就是将窗口像素排序，取中值，然后移动窗口，不断重复取中值的过程。"
   ]
  },
  {
   "cell_type": "code",
   "execution_count": 9,
   "metadata": {
    "ExecuteTime": {
     "end_time": "2019-07-24T09:07:46.111450Z",
     "start_time": "2019-07-24T09:07:46.106983Z"
    }
   },
   "outputs": [],
   "source": [
    "import cv2\n",
    "import numpy as np\n",
    "import math"
   ]
  },
  {
   "cell_type": "code",
   "execution_count": 10,
   "metadata": {
    "ExecuteTime": {
     "end_time": "2019-07-24T09:07:46.669405Z",
     "start_time": "2019-07-24T09:07:46.653039Z"
    }
   },
   "outputs": [],
   "source": [
    "# 用于彩色图像\n",
    "def medianBlur(img, kernel=(3,3), padding_way='ZERO'):\n",
    "    '''\n",
    "    img: 图像名称\n",
    "    kernel is List of List: [m, n] 所要输入的kernel含义不是特别明确，先理解为中值滤波kernel的尺寸\n",
    "    padding_way a string: REPLICA(填充元像素与边缘像素相同); ZERO(填充像素为0)\n",
    "    '''\n",
    "    #对输入的padding方式进行检查\n",
    "    padding_way = padding_way.upper()\n",
    "    allowed_padding = ['ZERO', 'REPLICA']\n",
    "    if padding_way not in allowed_padding:\n",
    "        raise ValueError('The padding argument must be one of \"ZERO\", \"REPLICA\". Received: ' + str(padding))\n",
    "    #设置与img大小相同的全0矩阵，用于接收中值操作后的值，形成中值滤波操作后的结果\n",
    "    img_after_Blur = np.zeros_like(img)\n",
    "    #保存图像的形状\n",
    "    img_shape = img.shape\n",
    "    #图像填充，padding，使用np中的np.lib.pad函数\n",
    "    padding = ((math.ceil(kernel[0]/2),),(math.ceil(kernel[1]/2),))\n",
    "    #若img是三通道的彩色图像，则padding矩阵增加一个维度，但是不做paddding操作\n",
    "    if len(img_shape) == 3:\n",
    "        padding = padding + ((0,),)\n",
    "    #不同的padding方式\n",
    "    if padding_way == 'REPLICA':\n",
    "        img = np.lib.pad(img, padding, mode='edge')\n",
    "    if padding_way == 'ZERO':\n",
    "        img = np.lib.pad(img, padding, mode='constant', constant_values = 0)\n",
    "    #取kernel对应于padding后img的中值，形成新图像，即中值滤波\n",
    "    for j in range(img_shape[1]):\n",
    "        for i in range(img_shape[0]):\n",
    "            kernel_window = img[i+1:i+padding[0][0]*2+2, j+1:j+padding[1][-1]*2+2]\n",
    "            img_after_Blur[i, j , :] = np.median(kernel_window, axis=(0,1))\n",
    "    return img_after_Blur"
   ]
  },
  {
   "cell_type": "markdown",
   "metadata": {},
   "source": [
    "### 上述代码参考了优秀作业1. 但是遍历方法求中值，速度还是有点慢，下面的实例也可以发现该代码实现中值滤波速度很慢，512x512的图像需要25秒。可以考虑答疑课中提到的针对求中值的加速办法进行改进\n",
    "### 由于图像通过opencv读入后，类型为numpy.ndarray，用np.median函数求中位数是较好的选择"
   ]
  },
  {
   "cell_type": "code",
   "execution_count": 11,
   "metadata": {
    "ExecuteTime": {
     "end_time": "2019-07-24T09:07:50.501163Z",
     "start_time": "2019-07-24T09:07:50.477778Z"
    }
   },
   "outputs": [
    {
     "name": "stdout",
     "output_type": "stream",
     "text": [
      "(512, 512, 3)\n"
     ]
    }
   ],
   "source": [
    "#测试1\n",
    "path = './lenna.jpg'\n",
    "img = cv2.imread(path)\n",
    "print(img.shape)"
   ]
  },
  {
   "cell_type": "code",
   "execution_count": 12,
   "metadata": {
    "ExecuteTime": {
     "end_time": "2019-07-24T09:08:18.070118Z",
     "start_time": "2019-07-24T09:07:53.074671Z"
    }
   },
   "outputs": [],
   "source": [
    "a = medianBlur(img)\n",
    "new_path = './lenna_blurred.jpg'\n",
    "cv2.imwrite(new_path, a)\n",
    "cv2.imshow('a', a)\n",
    "key = cv2.waitKey()\n",
    "if key == 27:\n",
    "    cv2.destroyAllWindows()"
   ]
  },
  {
   "cell_type": "code",
   "execution_count": 1,
   "metadata": {
    "ExecuteTime": {
     "end_time": "2019-07-24T07:16:14.561239Z",
     "start_time": "2019-07-24T07:16:14.544872Z"
    }
   },
   "outputs": [
    {
     "data": {
      "text/plain": [
       "\"\\n    if padding_way == 'REPLICA':\\n        padding_my_img = cv2.copyMakeBorder(my_img, 1, 1, 1, 1, cv2.BORDER_REPLICATE)\\n    elif padding_way == 'ZERO':\\n        padding_my_img = cv2.copyMakeBorder(my_img, 1, 1, 1, 1, cv2.BORDER_CONSTANT, value=0)\\n    my_img_medianBlur = cv2.medianBlur(padding_my_img, kernel_size)\\n\""
      ]
     },
     "execution_count": 1,
     "metadata": {},
     "output_type": "execute_result"
    }
   ],
   "source": [
    "#opencv中还可以使用cv2.copyMakeBorder进行pandding操作\n",
    "'''\n",
    "    if padding_way == 'REPLICA':\n",
    "        padding_my_img = cv2.copyMakeBorder(my_img, 1, 1, 1, 1, cv2.BORDER_REPLICATE)\n",
    "    elif padding_way == 'ZERO':\n",
    "        padding_my_img = cv2.copyMakeBorder(my_img, 1, 1, 1, 1, cv2.BORDER_CONSTANT, value=0)\n",
    "    my_img_medianBlur = cv2.medianBlur(padding_my_img, kernel_size)\n",
    "'''\n",
    "#opencv中，可以直接调用cv2.medianBlur进行中值滤波"
   ]
  },
  {
   "cell_type": "markdown",
   "metadata": {},
   "source": [
    "## 2.中值滤波加速算法的实现\n",
    "利用窗口每次平移时，没有移出窗口的像素点还是排好序的，因此，只需要把新加入的像素点插入到其中即可完成排序。此外，由于我们并不需要一个完整的排序数列， 只需要找到中值就可以了。\n",
    "\n",
    "基于上面两点，快速中值滤波采用的是直方图的方式来统计像素点，即横坐标是像素点的值，纵坐标是窗口中像素点的个数。设置一个“光标”，在横轴上左右移动，当两边像素点相等时，对应的像素点就是要找的中值。然后移动窗口，更新直方图，再次移动“光标”，找到中值，不断反复。\n",
    "\n",
    "需要注意的是，“光标”的每次移动，都只能移动在数目不为 0 的像素点上，否则，取到的中值很可能不在这个窗口中。"
   ]
  },
  {
   "cell_type": "markdown",
   "metadata": {},
   "source": [
    "加速中值滤波的具体步骤如下：\n",
    "1. 第一步：\n",
    "设置门限th = N*M/2。门限是用来判断像素点是否是中值的，它是窗口大小的一半，如果不知道有啥用，看第五步的用法。\n",
    "\n",
    "2. 第二步：\n",
    "将窗口移动到一个新行的开始，建立窗口像素的直方图，通过直方图确定中值 med，记下亮度小于或等于 med 的像素数目到变量 n 中。\n",
    "\n",
    "3. 第三步：\n",
    "对于最左列的每个像素，去掉每一个元素，并将直方图中的相应的数值更新，然后更新n的值。\n",
    "\n",
    "4. 第四步：\n",
    "同理，与第三步一样，对于最右列的每个像素，增加每一个元素的值，并将直方图中的相应的数值进行更新。\n",
    "\n",
    "5. 第五步：\n",
    "然后判断n的值与门限 th 的大小。如果 n > th，则将 med 进行递减操作；如果n < th 则将 med 进行递增操作。直到 n 超过 th 为止。得到的 med 就是需要的中值。\n",
    "\n",
    "参考自[博客](https://blog.csdn.net/rocketeerLi/article/details/88017306)"
   ]
  },
  {
   "cell_type": "code",
   "execution_count": 13,
   "metadata": {
    "ExecuteTime": {
     "end_time": "2019-07-24T09:08:22.816606Z",
     "start_time": "2019-07-24T09:08:22.812673Z"
    }
   },
   "outputs": [],
   "source": [
    "import cv2\n",
    "import numpy as np\n",
    "import math"
   ]
  },
  {
   "cell_type": "code",
   "execution_count": 18,
   "metadata": {
    "ExecuteTime": {
     "end_time": "2019-07-24T09:17:47.623304Z",
     "start_time": "2019-07-24T09:17:47.542363Z"
    }
   },
   "outputs": [],
   "source": [
    "# 彩色图像\n",
    "def medianBlur_turbo(img, kernel=(3,3), padding_way='ZERO'):\n",
    "    '''\n",
    "    img: 图像名称\n",
    "    kernel is List of List: [m, n] 所要输入的kernel含义不是特别明确，先理解为中值滤波kernel的尺寸\n",
    "    padding_way a string: REPLICA(填充元像素与边缘像素相同); ZERO(填充像素为0)\n",
    "    '''\n",
    "    # 对输入的padding方式进行检查\n",
    "    padding_way = padding_way.upper()\n",
    "    allowed_padding = ['ZERO', 'REPLICA']\n",
    "    if padding_way not in allowed_padding:\n",
    "        raise ValueError('The padding argument must be one of \"ZERO\", \"REPLICA\". Received: ' + str(padding))\n",
    "    # 设置与img大小相同的全0矩阵，用于接收中值操作后的值，形成中值滤波操作后的结果\n",
    "    img_after_Blur = np.zeros_like(img)\n",
    "    # 保存图像的形状\n",
    "    img_shape = img.shape\n",
    "    # 图像填充，padding，使用np中的np.lib.pad函数\n",
    "    padding = ((math.ceil(kernel[0]/2),),(math.ceil(kernel[1]/2),))\n",
    "    # 若img是三通道的彩色图像，则padding矩阵增加一个维度，但是不做paddding操作\n",
    "    if len(img_shape) == 3:\n",
    "        padding = padding + ((0,),)\n",
    "    #不同的padding方式\n",
    "    if padding_way == 'REPLICA':\n",
    "        img = np.lib.pad(img, padding, mode='edge')\n",
    "    if padding_way == 'ZERO':\n",
    "        img = np.lib.pad(img, padding, mode='constant', constant_values = 0)\n",
    "        \n",
    "    # 以上步骤与原中值滤波函数相同，包括读取pandding方式、进行pandding操作\n",
    "    # 由于是彩色图片，要绘制直方图需要按照BGR三个通道分别进行\n",
    "    B, G, R = cv2.split(img)\n",
    "    # 设置门限\n",
    "    th = math.ceil(kernel[0]*kernel[1]/2)\n",
    "    # 对蓝色通道进行中值滤波\n",
    "    # 创建保存直方图的数组\n",
    "    H = np.zeros(256, dtype=int)\n",
    "    for row in range(1, len(B) - 1):\n",
    "        # 到达一个新的行，对直方图进行初始化\n",
    "        H = np.zeros(256, dtype=int)\n",
    "        # 求中值\n",
    "        med = np.uint8( np.median(B[row - 1 : row + kernel[0]-1, 0:kernel[1]]) )\n",
    "        n = 0 \n",
    "        # 绘制直方图\n",
    "        for i in range(-1, kernel[0]-1) :\n",
    "            for j in range(0, kernel[1]) :\n",
    "                H[B[row+i][j]] = H[B[row+i][j]] + 1\n",
    "                if B[row+i][j] <= med:\n",
    "                    n = n + 1\n",
    "        for col in range(1, len(B[row]) - 1) :\n",
    "            # 第一列\n",
    "            if col == 1 :\n",
    "                None\n",
    "            # 移到下一列\n",
    "            else :\n",
    "                # 更新直方图 并计算 n 的值\n",
    "                for i in range(-1, kernel[0]-1) :\n",
    "                    # 对左列元素 值减一 \n",
    "                    H[B[row+i][col-2]] = H[B[row+i][col-2]] - 1\n",
    "                    if B[row+i][col-2] <= med :\n",
    "                        n = n - 1\n",
    "                    # 对右列元素 值加一\n",
    "                    H[B[row+i][col+1]] = H[B[row+i][col+1]] + 1\n",
    "                    if B[row+i][col+1] <= med :\n",
    "                        n = n + 1\n",
    "                # 重新计算中值\n",
    "                if n > th :\n",
    "                    while n > th :\n",
    "                        if med == 0 :\n",
    "                            break\n",
    "                        n = n - H[med]\n",
    "                        med = med - 1\n",
    "                elif n < th :\n",
    "                    while n < th :\n",
    "                        med = med + 1\n",
    "                        n = n + H[med]\n",
    "            sum = 0\n",
    "            for k in range(med + 1) :\n",
    "                sum = sum + H[k]\n",
    "            # 更新中值后的直方图\n",
    "            H[B[row][col]] = H[B[row][col]] - 1\n",
    "            if med < B[row][col] :\n",
    "                n = n + 1\n",
    "            B[row][col] = med\n",
    "            H[med] = H[med] + 1\n",
    "    # 对 绿色通道 进行中值滤波\n",
    "    H = np.zeros(256, dtype=int)    # 直方图\n",
    "    for row in range(1, len(G) - 1) :\n",
    "        # 到达一个新的行 初始化\n",
    "        H = np.zeros(256, dtype=int)    # 直方图\n",
    "        # 求中值\n",
    "        med = np.uint8(np.median(G[row - 1 : row + 2, 0:3]))\n",
    "        if med == -128 :\n",
    "            print(G[row - 1 : row + 2, 0:3])\n",
    "        n = 0\n",
    "        for i in range(-1, 2) :\n",
    "            for j in range(0, 3) :\n",
    "                H[G[row+i][j]] = H[G[row+i][j]] + 1\n",
    "                if G[row+i][j] <= med :\n",
    "                    n = n + 1\n",
    "        for col in range(1, len(G[row]) - 1) :\n",
    "            if col == 1 :\n",
    "                None\n",
    "            # 移到下一列\n",
    "            else :\n",
    "                # 更新直方图 并计算 n 的值\n",
    "                for i in range(-1, 2) :\n",
    "                    # 对左列元素 值减一 \n",
    "                    H[G[row+i][col-2]] = H[G[row+i][col-2]] - 1\n",
    "                    if G[row+i][col-2] <= med :\n",
    "                        n = n - 1\n",
    "                    # 对右列元素 值加一\n",
    "                    H[G[row+i][col+1]] = H[G[row+i][col+1]] + 1\n",
    "                    if G[row+i][col+1] <= med :\n",
    "                        n = n + 1\n",
    "                # 重新计算中值\n",
    "                if n > th :\n",
    "                    while n > th :\n",
    "                        if med == 0 :\n",
    "                            break\n",
    "                        n = n - H[med]\n",
    "                        med = med - 1\n",
    "                elif n < th :\n",
    "                    while n < th :\n",
    "                        med = med + 1\n",
    "                        n = n + H[med]\n",
    "            # 更新中值后的直方图\n",
    "            H[G[row][col]] = H[G[row][col]] - 1\n",
    "            if med < G[row][col] :\n",
    "                n = n + 1\n",
    "            G[row][col] = med\n",
    "            H[med] = H[med] + 1\n",
    "    # 对 红色通道 进行中值滤波\n",
    "    H = np.zeros(256, dtype=int)    # 直方图\n",
    "    for row in range(1, len(R) - 1) :\n",
    "        # 到达一个新的行 初始化\n",
    "        H = np.zeros(256, dtype=int)    # 直方图\n",
    "        # 求中值\n",
    "        med = np.uint8(np.median(R[row - 1 : row + 2, 0:3]))\n",
    "        if med == -128 :\n",
    "            print(R[row - 1 : row + 2, 0:3])\n",
    "        n = 0\n",
    "        for i in range(-1, 2) :\n",
    "            for j in range(0, 3) :\n",
    "                H[R[row+i][j]] = H[R[row+i][j]] + 1\n",
    "                if R[row+i][j] <= med :\n",
    "                    n = n + 1\n",
    "        for col in range(1, len(R[row]) - 1) :\n",
    "            if col == 1 :\n",
    "                None\n",
    "            # 移到下一列\n",
    "            else :\n",
    "                # 更新直方图 并计算 n 的值\n",
    "                for i in range(-1, 2) :\n",
    "                    # 对左列元素 值减一 \n",
    "                    H[R[row+i][col-2]] = H[R[row+i][col-2]] - 1\n",
    "                    if R[row+i][col-2] <= med :\n",
    "                        n = n - 1\n",
    "                    # 对右列元素 值加一\n",
    "                    H[R[row+i][col+1]] = H[R[row+i][col+1]] + 1\n",
    "                    if R[row+i][col+1] <= med :\n",
    "                        n = n + 1\n",
    "                # 重新计算中值\n",
    "                if n > th :\n",
    "                    while n > th :\n",
    "                        if med == 0 :\n",
    "                            break\n",
    "                        n = n - H[med]\n",
    "                        med = med - 1\n",
    "                elif n < th :\n",
    "                    while n < th :\n",
    "                        med = med + 1\n",
    "                        n = n + H[med]\n",
    "            sum = 0\n",
    "            # 更新中值后的直方图\n",
    "            H[R[row][col]] = H[R[row][col]] - 1\n",
    "            if med < R[row][col] :\n",
    "                n = n + 1\n",
    "            R[row][col] = med\n",
    "            H[med] = H[med] + 1\n",
    "    \n",
    "    return cv2.merge([B,G,R])"
   ]
  },
  {
   "cell_type": "code",
   "execution_count": 15,
   "metadata": {
    "ExecuteTime": {
     "end_time": "2019-07-24T09:08:24.590894Z",
     "start_time": "2019-07-24T09:08:24.566375Z"
    }
   },
   "outputs": [
    {
     "name": "stdout",
     "output_type": "stream",
     "text": [
      "(512, 512, 3)\n"
     ]
    }
   ],
   "source": [
    "#测试1\n",
    "path = './lenna.jpg'\n",
    "img = cv2.imread(path)\n",
    "print(img.shape)"
   ]
  },
  {
   "cell_type": "code",
   "execution_count": 16,
   "metadata": {
    "ExecuteTime": {
     "end_time": "2019-07-24T09:09:20.741176Z",
     "start_time": "2019-07-24T09:08:25.196783Z"
    }
   },
   "outputs": [],
   "source": [
    "a = medianBlur_turbo(img)\n",
    "new_path = './lenna_blurred_turbo.jpg'\n",
    "cv2.imwrite(new_path, a)\n",
    "cv2.imshow('a', a)\n",
    "key = cv2.waitKey()\n",
    "if key == 27:\n",
    "    cv2.destroyAllWindows()"
   ]
  },
  {
   "cell_type": "markdown",
   "metadata": {
    "ExecuteTime": {
     "end_time": "2019-07-24T09:14:09.572342Z",
     "start_time": "2019-07-24T09:14:09.568552Z"
    }
   },
   "source": [
    "### 512x512的彩色图片，需要55秒\n",
    "### 代码可能存在问题，中值滤波图像与上面的不太一样"
   ]
  },
  {
   "cell_type": "code",
   "execution_count": 23,
   "metadata": {
    "ExecuteTime": {
     "end_time": "2019-07-24T09:19:33.788429Z",
     "start_time": "2019-07-24T09:19:33.751236Z"
    }
   },
   "outputs": [],
   "source": [
    "def medianBlur_turbo1(img, kernel=(3,3), padding_way='ZERO'):\n",
    "    '''\n",
    "    img: 图像名称\n",
    "    kernel is List of List: [m, n] 所要输入的kernel含义不是特别明确，先理解为中值滤波kernel的尺寸\n",
    "    padding_way a string: REPLICA(填充元像素与边缘像素相同); ZERO(填充像素为0)\n",
    "    '''\n",
    "    # 对输入的padding方式进行检查\n",
    "    padding_way = padding_way.upper()\n",
    "    allowed_padding = ['ZERO', 'REPLICA']\n",
    "    if padding_way not in allowed_padding:\n",
    "        raise ValueError('The padding argument must be one of \"ZERO\", \"REPLICA\". Received: ' + str(padding))\n",
    "    # 设置与img大小相同的全0矩阵，用于接收中值操作后的值，形成中值滤波操作后的结果\n",
    "    img_after_Blur = np.zeros_like(img)\n",
    "    # 保存图像的形状\n",
    "    img_shape = img.shape\n",
    "    # 图像填充，padding，使用np中的np.lib.pad函数\n",
    "    padding = ((math.ceil(kernel[0]/2),),(math.ceil(kernel[1]/2),))\n",
    "    # 若img是三通道的彩色图像，则padding矩阵增加一个维度，但是不做paddding操作\n",
    "    if len(img_shape) == 3:\n",
    "        padding = padding + ((0,),)\n",
    "    #不同的padding方式\n",
    "    if padding_way == 'REPLICA':\n",
    "        img = np.lib.pad(img, padding, mode='edge')\n",
    "    if padding_way == 'ZERO':\n",
    "        img = np.lib.pad(img, padding, mode='constant', constant_values = 0)\n",
    "        \n",
    "    # 以上步骤与原中值滤波函数相同，包括读取pandding方式、进行pandding操作\n",
    "    th = math.ceil(kernel[0]*kernel[1])\n",
    "    # 创建保存直方图的数组\n",
    "    H = np.zeros(256, dtype=int)\n",
    "    for row in range(1, len(img) - 1):\n",
    "        # 到达一个新的行，对直方图进行初始化\n",
    "        H = np.zeros(256, dtype=int)\n",
    "        # 求中值\n",
    "        med = np.uint8( np.median(img[row - 1 : row + kernel[0]-1, 0:kernel[1]]) )\n",
    "        n = 0 \n",
    "        # 绘制直方图\n",
    "        for i in range(-1, kernel[0]-1) :\n",
    "            for j in range(0, kernel[1]) :\n",
    "                H[img[row+i][j]] = H[img[row+i][j]] + 1\n",
    "                if img[row+i][j] <= med:\n",
    "                    n = n + 1\n",
    "        for col in range(1, len(img[row]) - 1) :\n",
    "            # 第一列\n",
    "            if col == 1 :\n",
    "                None\n",
    "            # 移到下一列\n",
    "            else :\n",
    "                # 更新直方图 并计算 n 的值\n",
    "                for i in range(-1, kernel[0]-1) :\n",
    "                    # 对左列元素 值减一 \n",
    "                    H[img[row+i][col-2]] = H[img[row+i][col-2]] - 1\n",
    "                    if img[row+i][col-2] <= med :\n",
    "                        n = n - 1\n",
    "                    # 对右列元素 值加一\n",
    "                    H[img[row+i][col+1]] = H[img[row+i][col+1]] + 1\n",
    "                    if img[row+i][col+1] <= med :\n",
    "                        n = n + 1\n",
    "                # 重新计算中值\n",
    "                if n > 5 :\n",
    "                    while n > 5 :\n",
    "                        if med == 0 :\n",
    "                            break\n",
    "                        n = n - H[med]\n",
    "                        med = med - 1\n",
    "                elif n < th :\n",
    "                    while n < th :\n",
    "                        med = med + 1\n",
    "                        n = n + H[med]\n",
    "            sum = 0\n",
    "            for k in range(med + 1) :\n",
    "                sum = sum + H[k]\n",
    "            # 更新中值后的直方图\n",
    "            H[img[row][col]] = H[img[row][col]] - 1\n",
    "            if med < img[row][col] :\n",
    "                n = n + 1\n",
    "            img[row][col] = med\n",
    "            H[med] = H[med] + 1 \n",
    "    return img"
   ]
  },
  {
   "cell_type": "code",
   "execution_count": 24,
   "metadata": {
    "ExecuteTime": {
     "end_time": "2019-07-24T09:19:34.387139Z",
     "start_time": "2019-07-24T09:19:34.365319Z"
    }
   },
   "outputs": [
    {
     "name": "stdout",
     "output_type": "stream",
     "text": [
      "(512, 512)\n"
     ]
    }
   ],
   "source": [
    "#测试1\n",
    "path = './lenna.jpg'\n",
    "img = cv2.imread(path, 0)\n",
    "print(img.shape)"
   ]
  },
  {
   "cell_type": "code",
   "execution_count": 25,
   "metadata": {
    "ExecuteTime": {
     "end_time": "2019-07-24T09:20:06.094795Z",
     "start_time": "2019-07-24T09:19:35.656303Z"
    }
   },
   "outputs": [],
   "source": [
    "a = medianBlur_turbo1(img)\n",
    "new_path = './lenna_blurred_turbo1.jpg'\n",
    "cv2.imwrite(new_path, a)\n",
    "cv2.imshow('a', a)\n",
    "key = cv2.waitKey()\n",
    "if key == 27:\n",
    "    cv2.destroyAllWindows()"
   ]
  },
  {
   "cell_type": "markdown",
   "metadata": {},
   "source": [
    "### 512x512的灰度图片，需要30秒"
   ]
  },
  {
   "cell_type": "code",
   "execution_count": null,
   "metadata": {},
   "outputs": [],
   "source": []
  }
 ],
 "metadata": {
  "kernelspec": {
   "display_name": "Python 3",
   "language": "python",
   "name": "python3"
  },
  "language_info": {
   "codemirror_mode": {
    "name": "ipython",
    "version": 3
   },
   "file_extension": ".py",
   "mimetype": "text/x-python",
   "name": "python",
   "nbconvert_exporter": "python",
   "pygments_lexer": "ipython3",
   "version": "3.7.1"
  },
  "varInspector": {
   "cols": {
    "lenName": 16,
    "lenType": 16,
    "lenVar": 40
   },
   "kernels_config": {
    "python": {
     "delete_cmd_postfix": "",
     "delete_cmd_prefix": "del ",
     "library": "var_list.py",
     "varRefreshCmd": "print(var_dic_list())"
    },
    "r": {
     "delete_cmd_postfix": ") ",
     "delete_cmd_prefix": "rm(",
     "library": "var_list.r",
     "varRefreshCmd": "cat(var_dic_list()) "
    }
   },
   "types_to_exclude": [
    "module",
    "function",
    "builtin_function_or_method",
    "instance",
    "_Feature"
   ],
   "window_display": false
  }
 },
 "nbformat": 4,
 "nbformat_minor": 2
}
