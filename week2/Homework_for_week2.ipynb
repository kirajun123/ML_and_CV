{
 "cells": [
  {
   "cell_type": "markdown",
   "metadata": {},
   "source": [
    "# [Reading]阅读材料\n",
    "1. **Optional**\n",
    "    \n",
    "    [Bilateral Filter](https://blog.csdn.net/piaoxuezhong/article/details/78302920)\n",
    "\n",
    "\n",
    "2. **Feature Descriptors:**\n",
    "\n",
    "    [Compulsory]\n",
    "   \n",
    "    [Hog](https://lear.inrialpes.fr/people/triggs/pubs/Dalal-cvpr05.pdf)\n",
    "    \n",
    "    [SURF](https://www.vision.ee.ethz.ch/~surf/eccv06.pdf)\n",
    "   \n",
    "    [Optional]\n",
    "   \n",
    "    [BRISK](http://citeseerx.ist.psu.edu/viewdoc/download?doi=10.1.1.371.1343&rep=rep1&type=pdf)\n",
    "   \n",
    "    [Orb](http://www.willowgarage.com/sites/default/files/orb_final.pdf) [Compulsory for SLAM Guys]\n",
    "\n",
    "\n",
    "3. **Preview parts:** \n",
    "\n",
    "K-Means: I have no doubts about what you are going to read and where you gonna find the reading materials. There are tons of papers/blogs describing k-means. Just grab one and read.We'll this topic in 3 weeks."
   ]
  },
  {
   "cell_type": "markdown",
   "metadata": {},
   "source": [
    "# Homework1: Finish 2D convolution/filtering by your self. \n",
    "What you are supposed to do can be described as \"median blur\", which means by using a sliding window on an image, your task is not going to do a normal convolution, but to find the median value within that crop.\n",
    "\n",
    "You can assume your input has only one channel. (a.k.a a normal 2D list/vector)\n",
    "And you do need to consider the padding method and size. There are 2 padding ways: REPLICA & ZERO. When \"REPLICA\" is given to you, the padded pixels are same with the border pixels. E.g is [1 2 3] is your image, the padded version will be [(...1 1) 1 2 3 (3 3...)] where how many 1 & 3 in the parenthesis depends on your padding size. When \"ZERO\", the padded version will be [(...0 0) 1 2 3 (0 0...)]\n",
    "\n",
    "Assume your input's size of the image is W x H, kernel size's m x n. You may first complete a version with O(W·H·m·n log(m·n)) to O(W·H·m·n·m·n)). Follow up 1: Can it be completed in a shorter time complexity?"
   ]
  },
  {
   "cell_type": "code",
   "execution_count": 5,
   "metadata": {
    "ExecuteTime": {
     "end_time": "2019-07-13T15:22:01.132794Z",
     "start_time": "2019-07-13T15:22:01.109789Z"
    }
   },
   "outputs": [],
   "source": [
    "#Python version:\n",
    "#Please finish your code under this blank\n",
    "#使用了opencv自带的库函数实现，暂未实现自己编写\n",
    "import cv2\n",
    "import numpy as np\n",
    "def medianBlur(img, kernel_size, padding_way):\n",
    "    '''\n",
    "    img: 图像名称\n",
    "    kernel is List of List: [m, n] 所要输入的kernel含义不是特别明确，先理解为中值滤波kernel的尺寸\n",
    "    padding_way a string: REPLICA(填充元像素与边缘像素相同); ZERO(填充像素为0)\n",
    "    '''\n",
    "    my_img = cv2.imread(img, 0)\n",
    "    if padding_way == 'REPLICA':\n",
    "        padding_my_img = cv2.copyMakeBorder(my_img, 1, 1, 1, 1, cv2.BORDER_REPLICATE)\n",
    "    elif padding_way == 'ZERO':\n",
    "        padding_my_img = cv2.copyMakeBorder(my_img, 1, 1, 1, 1, cv2.BORDER_CONSTANT, value=0)\n",
    "    my_img_medianBlur = cv2.medianBlur(padding_my_img, kernel_size)\n",
    "    return my_img_medianBlur"
   ]
  },
  {
   "cell_type": "code",
   "execution_count": 15,
   "metadata": {
    "ExecuteTime": {
     "end_time": "2019-07-13T15:25:04.438575Z",
     "start_time": "2019-07-13T15:25:02.680019Z"
    }
   },
   "outputs": [],
   "source": [
    "#测试1\n",
    "img = 'lenna.jpg'\n",
    "a = medianBlur(img, 7, 'REPLICA')\n",
    "cv2.imshow('a', a)\n",
    "key = cv2.waitKey()\n",
    "if key == 27:\n",
    "    cv2.destroyAllWindows()"
   ]
  },
  {
   "cell_type": "code",
   "execution_count": 16,
   "metadata": {
    "ExecuteTime": {
     "end_time": "2019-07-13T15:26:22.076254Z",
     "start_time": "2019-07-13T15:26:20.323005Z"
    }
   },
   "outputs": [],
   "source": [
    "#测试2\n",
    "b = medianBlur(img, 7, 'ZERO')\n",
    "cv2.imshow('b', b)\n",
    "key = cv2.waitKey()\n",
    "if key == 27:\n",
    "    cv2.destroyAllWindows()"
   ]
  },
  {
   "cell_type": "code",
   "execution_count": 2,
   "metadata": {
    "ExecuteTime": {
     "end_time": "2019-07-13T15:02:20.976707Z",
     "start_time": "2019-07-13T15:02:20.966670Z"
    }
   },
   "outputs": [],
   "source": [
    "import cv2\n",
    "import numpy as np"
   ]
  },
  {
   "cell_type": "markdown",
   "metadata": {
    "ExecuteTime": {
     "end_time": "2019-07-11T05:52:34.214290Z",
     "start_time": "2019-07-11T05:52:34.209307Z"
    }
   },
   "source": [
    "# Homework2: Reading + Pseudo Code\n",
    "We haven't told RANSAC algorithm this week. So please try to do the reading.\n",
    "And now, we can describe it here:\n",
    "We have 2 sets of points, say, Points A and Points B. We use A.1 to denote the first point in A, B.2 the 2nd point in B and so forth. Ideally, A.1 is corresponding to B.1, ... A.m corresponding B.m. However, it's obvious that the matching cannot be so perfect and the matching in our real world is like: A.1-B.13, A.2-B.24, A.3-x (has no matching), x-B.5, A.4-B.24(This is a wrong matching) ...The target of RANSAC is to find out the true matching within this messy.\n",
    "Algorithm for this procedure can be described like this:\n",
    "1. Choose 4 pair of points randomly in our matching points. Those four called \"inlier\" (中文： 内点) while others \"outlier\" (中文： 外点)\n",
    "2. Get the homography of the inliers\n",
    "3. Use this computed homography to test all the other outliers. And separated them by using a threshold into two parts:\n",
    "    a. new inliers which is satisfied our computed homography\n",
    "    b. new outliers which is not satisfied by our computed homography.\n",
    "4. Get our all inliers (new inliers + old inliers) and goto step 2\n",
    "5. As long as there's no changes or we have already repeated step 2-4 k, a number actually can be computed,times, we jump out of the recursion. The final homography matrix will be the one that we want.\n",
    "\n",
    "[WARNING!!! RANSAC is a general method. Here we add our matching background to that.]\n",
    "Your task: please complete pseudo code (it would be great if you hand in real code!) of this procedure."
   ]
  },
  {
   "cell_type": "code",
   "execution_count": 9,
   "metadata": {
    "ExecuteTime": {
     "end_time": "2019-07-11T08:18:57.494199Z",
     "start_time": "2019-07-11T08:18:57.489249Z"
    }
   },
   "outputs": [],
   "source": [
    "#Python:\n",
    "# def ransacMatching(A, B):\n",
    "#    A & B: List of List"
   ]
  },
  {
   "cell_type": "code",
   "execution_count": null,
   "metadata": {},
   "outputs": [],
   "source": []
  }
 ],
 "metadata": {
  "kernelspec": {
   "display_name": "Python 3",
   "language": "python",
   "name": "python3"
  },
  "language_info": {
   "codemirror_mode": {
    "name": "ipython",
    "version": 3
   },
   "file_extension": ".py",
   "mimetype": "text/x-python",
   "name": "python",
   "nbconvert_exporter": "python",
   "pygments_lexer": "ipython3",
   "version": "3.7.1"
  },
  "varInspector": {
   "cols": {
    "lenName": 16,
    "lenType": 16,
    "lenVar": 40
   },
   "kernels_config": {
    "python": {
     "delete_cmd_postfix": "",
     "delete_cmd_prefix": "del ",
     "library": "var_list.py",
     "varRefreshCmd": "print(var_dic_list())"
    },
    "r": {
     "delete_cmd_postfix": ") ",
     "delete_cmd_prefix": "rm(",
     "library": "var_list.r",
     "varRefreshCmd": "cat(var_dic_list()) "
    }
   },
   "types_to_exclude": [
    "module",
    "function",
    "builtin_function_or_method",
    "instance",
    "_Feature"
   ],
   "window_display": false
  }
 },
 "nbformat": 4,
 "nbformat_minor": 2
}
